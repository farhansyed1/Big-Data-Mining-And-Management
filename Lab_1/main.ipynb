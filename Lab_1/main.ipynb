{
 "cells": [
  {
   "cell_type": "code",
   "execution_count": 1,
   "metadata": {},
   "outputs": [],
   "source": [
    "import json\n",
    "import pandas as pd\n",
    "import numpy as np\n",
    "from sklearn.metrics import mean_squared_error\n",
    "from sklearn.metrics.pairwise import cosine_similarity\n",
    "from sklearn.decomposition import TruncatedSVD"
   ]
  },
  {
   "cell_type": "code",
   "execution_count": 2,
   "metadata": {},
   "outputs": [],
   "source": [
    "with open(\"data/product.json\",\"r\") as f: \n",
    "    datas = json.load(f)"
   ]
  },
  {
   "cell_type": "code",
   "execution_count": 3,
   "metadata": {},
   "outputs": [],
   "source": [
    "train_data = pd.read_csv('data/review.csv')\n",
    "valid_data = pd.read_csv('data/validation.csv')"
   ]
  },
  {
   "cell_type": "code",
   "execution_count": 4,
   "metadata": {},
   "outputs": [
    {
     "name": "stdout",
     "output_type": "stream",
     "text": [
      "0        5.0\n",
      "1        3.0\n",
      "2        4.0\n",
      "3        2.0\n",
      "4        2.0\n",
      "        ... \n",
      "52507    5.0\n",
      "52508    5.0\n",
      "52509    5.0\n",
      "52510    4.0\n",
      "52511    5.0\n",
      "Name: Star, Length: 52512, dtype: float64\n"
     ]
    }
   ],
   "source": [
    "print(train_data.Star)"
   ]
  },
  {
   "cell_type": "code",
   "execution_count": 5,
   "metadata": {},
   "outputs": [],
   "source": [
    "train_reviewer_product_matrix = train_data.pivot_table(index='ReviewerID', columns='ProductID', values='Star').fillna(0)\n",
    "train_product_reviewer_matrix = train_reviewer_product_matrix.T"
   ]
  },
  {
   "cell_type": "code",
   "execution_count": 8,
   "metadata": {},
   "outputs": [],
   "source": [
    "def similarity(matrix):\n",
    "    return cosine_similarity(matrix)"
   ]
  },
  {
   "cell_type": "code",
   "execution_count": 9,
   "metadata": {},
   "outputs": [],
   "source": [
    "def predict_reviewer_based(reviewer_product_matrix, reviewer_similarity):\n",
    "    reviewer_ratings_mean = reviewer_product_matrix.mean(axis=1).values.reshape(-1, 1) # (num_reviewers, 1)\n",
    "    centered_reviewer_product_matrix = reviewer_product_matrix - reviewer_ratings_mean # (num_reviewers, num_products)\n",
    "    sim_sum = np.abs(reviewer_similarity).sum(axis=1)[:,None] # (num_reviewers, 1)\n",
    "    pred_ratings = reviewer_ratings_mean + np.dot(reviewer_similarity, centered_reviewer_product_matrix) / sim_sum # (num_reviewers, num_products)\n",
    "    # return as pd.DataFrame\n",
    "    return pd.DataFrame(pred_ratings, index=reviewer_product_matrix.index, columns=reviewer_product_matrix.columns)"
   ]
  },
  {
   "cell_type": "code",
   "execution_count": 19,
   "metadata": {},
   "outputs": [],
   "source": [
    "reviewers_similarity_matrix = similarity(train_reviewer_product_matrix)\n",
    "reviewer_based_pred = predict_reviewer_based(train_reviewer_product_matrix, reviewers_similarity_matrix)"
   ]
  },
  {
   "cell_type": "code",
   "execution_count": 21,
   "metadata": {},
   "outputs": [
    {
     "name": "stdout",
     "output_type": "stream",
     "text": [
      "[[1. 0. 0. ... 0. 0. 0.]\n",
      " [0. 1. 0. ... 0. 0. 0.]\n",
      " [0. 0. 1. ... 0. 0. 0.]\n",
      " ...\n",
      " [0. 0. 0. ... 1. 0. 0.]\n",
      " [0. 0. 0. ... 0. 1. 0.]\n",
      " [0. 0. 0. ... 0. 0. 1.]]\n",
      "ProductID             B000FBFMHU  B000FC27TA  B000FCKPG2  B000GCFWXW  \\\n",
      "ReviewerID                                                             \n",
      "A0020356UF96ZV361ST    -0.005530   -0.005530   -0.005530   -0.005530   \n",
      "A00463782V7TKAP9EMNL    0.001526    0.001526    0.001526    0.001526   \n",
      "A0099735VDZ3HDCAAYKL    0.003831    0.008341    0.003831    0.019766   \n",
      "A01631062UX24GI4LJKF   -0.004234   -0.004234   -0.004234   -0.004234   \n",
      "A0178408Z1TQAM7D75FY   -0.009944   -0.009944   -0.009944   -0.009944   \n",
      "...                          ...         ...         ...         ...   \n",
      "AZQSQSF2QI02F          -0.007578   -0.003412   -0.007578    0.021187   \n",
      "AZRPAHQG1VHR0          -0.003311   -0.003311   -0.003311   -0.003311   \n",
      "AZULU4TOTOLEU          -0.004318   -0.004318   -0.004318   -0.004318   \n",
      "AZYERRDY2VW61           0.003639    0.005344    0.003639    0.003639   \n",
      "AZZMO52V8WZ68          -0.001430   -0.001430   -0.001430   -0.001430   \n",
      "\n",
      "ProductID             B000JMKRTI  B000V507D4  B000W4RFBQ  B000W916C0  \\\n",
      "ReviewerID                                                             \n",
      "A0020356UF96ZV361ST    -0.005530   -0.005530   -0.005530   -0.005530   \n",
      "A00463782V7TKAP9EMNL    0.001526    0.001526    0.001526    0.001526   \n",
      "A0099735VDZ3HDCAAYKL    0.003831    0.003831    0.003831    0.003831   \n",
      "A01631062UX24GI4LJKF   -0.004234   -0.004234   -0.004234   -0.004234   \n",
      "A0178408Z1TQAM7D75FY   -0.009944   -0.009944   -0.009944   -0.009944   \n",
      "...                          ...         ...         ...         ...   \n",
      "AZQSQSF2QI02F           0.009792   -0.007578   -0.007578   -0.007578   \n",
      "AZRPAHQG1VHR0          -0.003311   -0.003311   -0.003311   -0.003311   \n",
      "AZULU4TOTOLEU          -0.004318   -0.004318   -0.004318   -0.004318   \n",
      "AZYERRDY2VW61           0.028983    0.003639    0.003639    0.010986   \n",
      "AZZMO52V8WZ68          -0.001430   -0.001430   -0.001430   -0.001430   \n",
      "\n",
      "ProductID             B000W93A42  B000W966HU  ...  B01HAQ70M2  B01HBTH0VO  \\\n",
      "ReviewerID                                    ...                           \n",
      "A0020356UF96ZV361ST    -0.005530   -0.005530  ...   -0.005530   -0.005530   \n",
      "A00463782V7TKAP9EMNL    0.001526    0.001526  ...    0.001526    0.001526   \n",
      "A0099735VDZ3HDCAAYKL    0.013292    0.003831  ...    0.211575    0.030360   \n",
      "A01631062UX24GI4LJKF   -0.004234   -0.004234  ...   -0.004234   -0.004234   \n",
      "A0178408Z1TQAM7D75FY   -0.009944   -0.009944  ...    0.016487   -0.009944   \n",
      "...                          ...         ...  ...         ...         ...   \n",
      "AZQSQSF2QI02F          -0.007578   -0.007578  ...   -0.007578   -0.007578   \n",
      "AZRPAHQG1VHR0           0.014675   -0.003311  ...    0.007364    0.020655   \n",
      "AZULU4TOTOLEU          -0.004318   -0.004318  ...   -0.004318   -0.004318   \n",
      "AZYERRDY2VW61           0.009898    0.008659  ...    0.018310    0.028680   \n",
      "AZZMO52V8WZ68          -0.001430   -0.001430  ...   -0.001430   -0.001430   \n",
      "\n",
      "ProductID             B01HCB4LAO  B01HCB4LFE  B01HF6OU70  B01HFFPC2I  \\\n",
      "ReviewerID                                                             \n",
      "A0020356UF96ZV361ST    -0.005530   -0.005530   -0.005530   -0.005530   \n",
      "A00463782V7TKAP9EMNL    0.001526    0.001526    0.001526    0.001526   \n",
      "A0099735VDZ3HDCAAYKL    0.003831    0.003831    0.029496    0.003831   \n",
      "A01631062UX24GI4LJKF   -0.004234   -0.004234   -0.004234   -0.004234   \n",
      "A0178408Z1TQAM7D75FY   -0.009944   -0.009944   -0.009944   -0.009944   \n",
      "...                          ...         ...         ...         ...   \n",
      "AZQSQSF2QI02F           0.012475   -0.007578    0.016619    0.023202   \n",
      "AZRPAHQG1VHR0          -0.003311    0.003040    0.057852    0.004630   \n",
      "AZULU4TOTOLEU          -0.004318   -0.004318   -0.004318   -0.004318   \n",
      "AZYERRDY2VW61           0.012871    0.003639    0.007994    0.003639   \n",
      "AZZMO52V8WZ68          -0.001430   -0.001430   -0.001430   -0.001430   \n",
      "\n",
      "ProductID             B01HFGNGYI  B01HFTVMXM  B01HFUF1GK  B01HHJZ3EO  \n",
      "ReviewerID                                                            \n",
      "A0020356UF96ZV361ST    -0.005530   -0.005530   -0.005530   -0.005530  \n",
      "A00463782V7TKAP9EMNL    0.001526    0.001526    0.001526    0.001526  \n",
      "A0099735VDZ3HDCAAYKL    0.076185    0.003831    0.009037    0.064352  \n",
      "A01631062UX24GI4LJKF   -0.004234   -0.004234   -0.004234   -0.004234  \n",
      "A0178408Z1TQAM7D75FY   -0.009944    0.031037   -0.009944   -0.009944  \n",
      "...                          ...         ...         ...         ...  \n",
      "AZQSQSF2QI02F          -0.005062   -0.007578    0.003243    0.000382  \n",
      "AZRPAHQG1VHR0          -0.003311   -0.003311    0.014177    0.011467  \n",
      "AZULU4TOTOLEU          -0.004318   -0.004318   -0.004318   -0.004318  \n",
      "AZYERRDY2VW61           0.009256    0.003639    0.003639    0.006082  \n",
      "AZZMO52V8WZ68          -0.001430   -0.001430   -0.001430   -0.001430  \n",
      "\n",
      "[2752 rows x 6336 columns]\n"
     ]
    }
   ],
   "source": [
    "print(reviewers_similarity_matrix)\n",
    "print(reviewer_based_pred)"
   ]
  },
  {
   "cell_type": "code",
   "execution_count": 11,
   "metadata": {},
   "outputs": [],
   "source": [
    "def predict_product_based(product_reviewer_matrix, product_similarity):\n",
    "    nom = np.dot(product_similarity, product_reviewer_matrix) # (num_products, num_reviewers)\n",
    "    denom =  np.abs(product_similarity).sum(axis=1)[:,None] # (num_products, 1)\n",
    "    pred_ratings = nom / denom # division through broadcasting\n",
    "    return pd.DataFrame(pred_ratings, index=product_reviewer_matrix.index, columns=product_reviewer_matrix.columns)"
   ]
  },
  {
   "cell_type": "code",
   "execution_count": 12,
   "metadata": {},
   "outputs": [],
   "source": [
    "products_similarity_matrix = similarity(train_product_reviewer_matrix)\n",
    "product_based_pred = predict_product_based(train_product_reviewer_matrix, products_similarity_matrix)"
   ]
  },
  {
   "cell_type": "code",
   "execution_count": 13,
   "metadata": {},
   "outputs": [],
   "source": [
    "def svd_rating_prediction(pivot_table, n_components=2):\n",
    "    U, s, Vh = np.linalg.svd(pivot_table)\n",
    "    # select top n_components\n",
    "    U = U[:, :n_components]\n",
    "    s = np.diag(s[:n_components])\n",
    "    Vh = Vh[:n_components, :]\n",
    "    return np.dot(np.dot(U, s), Vh)"
   ]
  },
  {
   "cell_type": "code",
   "execution_count": 14,
   "metadata": {},
   "outputs": [],
   "source": [
    "def svd_rating_prediction(pivot_table, n_components=2):\n",
    "    svd = TruncatedSVD(n_components=n_components)\n",
    "    matrix = svd.fit_transform(pivot_table)\n",
    "    return svd.inverse_transform(matrix)"
   ]
  },
  {
   "cell_type": "code",
   "execution_count": 15,
   "metadata": {},
   "outputs": [],
   "source": [
    "svd_pred = svd_rating_prediction(train_reviewer_product_matrix, n_components=2)"
   ]
  },
  {
   "cell_type": "code",
   "execution_count": 16,
   "metadata": {},
   "outputs": [],
   "source": [
    "def rmse(pred, actual):\n",
    "    '''\n",
    "    params:\n",
    "        pred <np.array>: an array containing all predicted ratings\n",
    "        actual <np.array>: an array containing all ground truth ratings\n",
    "\n",
    "    return:\n",
    "        a scalar whose value is the rmse\n",
    "    '''\n",
    "    return np.sqrt(mean_squared_error(actual, pred))"
   ]
  },
  {
   "cell_type": "code",
   "execution_count": 17,
   "metadata": {},
   "outputs": [],
   "source": [
    "def get_predictions(pred_matrix, reviewer_id_map, business_id_map, valid_data):\n",
    "    predictions = []\n",
    "    actuals = []\n",
    "    \n",
    "    for _, row in valid_data.iterrows():\n",
    "        reviewer_id = row['ReviewerID']\n",
    "        business_id = row['ProductID']\n",
    "        actual_rating = row['Star']\n",
    "        \n",
    "        if reviewer_id in reviewer_id_map and business_id in business_id_map:\n",
    "            reviewer_idx = reviewer_id_map[reviewer_id]\n",
    "            business_idx = business_id_map[business_id]\n",
    "            pred_rating = pred_matrix[reviewer_idx, business_idx]\n",
    "            predictions.append(pred_rating)\n",
    "            actuals.append(actual_rating)\n",
    "    \n",
    "    return np.array(predictions), np.array(actuals)"
   ]
  },
  {
   "cell_type": "code",
   "execution_count": 18,
   "metadata": {},
   "outputs": [
    {
     "name": "stdout",
     "output_type": "stream",
     "text": [
      "User-based RMSE: 4.228321475101317\n",
      "Item-based RMSE: 4.22752745102103\n",
      "SVD RMSE: 4.25468433011097\n"
     ]
    }
   ],
   "source": [
    "reviewer_id_map = {reviewer_id: idx for idx, reviewer_id in enumerate(train_reviewer_product_matrix.index)}\n",
    "business_id_map = {business_id: idx for idx, business_id in enumerate(train_reviewer_product_matrix.columns)}\n",
    "\n",
    "# Get predictions for User-based CF\n",
    "reviewer_filtered_pred, reviewer_filtered_actual = get_predictions(reviewer_based_pred.values, reviewer_id_map, business_id_map, valid_data)\n",
    "\n",
    "# Get predictions for Item-based CF\n",
    "product_filtered_pred, product_filtered_actual = get_predictions(product_based_pred.T.values, reviewer_id_map, business_id_map, valid_data)\n",
    "\n",
    "# Get predictions for SVD\n",
    "svd_filtered_pred, svd_filtered_actual = get_predictions(svd_pred, reviewer_id_map, business_id_map, valid_data)\n",
    "\n",
    "# Calculate RMSE for User-based CF\n",
    "reviewer_based_rmse = rmse(reviewer_filtered_pred, reviewer_filtered_actual)\n",
    "print(f'User-based RMSE: {reviewer_based_rmse}')\n",
    "\n",
    "# Calculate RMSE for Item-based CF\n",
    "product_based_rmse = rmse(product_filtered_pred, product_filtered_actual)\n",
    "print(f'Item-based RMSE: {product_based_rmse}')\n",
    "\n",
    "# Calculate RMSE for SVD\n",
    "svd_rmse = rmse(svd_filtered_pred, svd_filtered_actual)\n",
    "print(f'SVD RMSE: {svd_rmse}')"
   ]
  }
 ],
 "metadata": {
  "kernelspec": {
   "display_name": "Python 3",
   "language": "python",
   "name": "python3"
  },
  "language_info": {
   "codemirror_mode": {
    "name": "ipython",
    "version": 3
   },
   "file_extension": ".py",
   "mimetype": "text/x-python",
   "name": "python",
   "nbconvert_exporter": "python",
   "pygments_lexer": "ipython3",
   "version": "3.11.9"
  }
 },
 "nbformat": 4,
 "nbformat_minor": 2
}
